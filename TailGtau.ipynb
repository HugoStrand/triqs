{
 "cells": [
  {
   "cell_type": "code",
   "execution_count": 1,
   "metadata": {
    "collapsed": true
   },
   "outputs": [],
   "source": [
    "from pytriqs.plot.mpl_interface import *\n",
    "%matplotlib inline\n",
    "from pytriqs.gf import *\n",
    "import numpy as np\n",
    "import math\n",
    "from math import exp"
   ]
  },
  {
   "cell_type": "code",
   "execution_count": 2,
   "metadata": {},
   "outputs": [
    {
     "name": "stdout",
     "output_type": "stream",
     "text": [
      "omax 27.33192\n",
      "abs (gt - gt_exact) =  [  5.27449113e-07   2.20732478e-07   9.92740572e-08   5.37616395e-08\n",
      "   3.30353599e-08]\n",
      "2002\n"
     ]
    },
    {
     "name": "stderr",
     "output_type": "stream",
     "text": [
      "/Users/parcolle/triqs_install/lib/python2.7/site-packages/pytriqs/gf/plot/plot_base.py:44: UserWarning: oplot of gf : no name provided !\n",
      "  warn(\"oplot of gf : no name provided !\")\n"
     ]
    },
    {
     "data": {
      "image/png": "[encoded data removed]",
      "text/plain": [
       "<matplotlib.figure.Figure at 0x10a71dd50>"
      ]
     },
     "metadata": {},
     "output_type": "display_data"
    }
   ],
   "source": [
    "n_iw = 1000\n",
    "beta = 50\n",
    "pol = 2.3\n",
    "def analy(n):\n",
    "    return (pol)**(n) \n",
    "\n",
    "gw = GfImFreq(indices = [1], beta = beta, n_points = n_iw)\n",
    "gw << inverse(iOmega_n - pol) #SemiCircular(half_bandwidth = 1)\n",
    "\n",
    "omax = (2*n_iw + 1)*3.1416/beta/(2*pol)\n",
    "print \"omax\", omax\n",
    "\n",
    "gt = GfImTime(indices = [1], beta = beta, n_points = 2*n_iw + 2)\n",
    "gt << InverseFourier(gw)\n",
    "\n",
    "# EXACT\n",
    "gt_ex = gt.copy()\n",
    "for t in gt.mesh:\n",
    "    gt_ex[t] = - exp (-pol * t)/(1  + exp (-beta * pol))\n",
    "\n",
    "print \"abs (gt - gt_exact) = \", abs((gt - gt_ex).data[0:5,0,0])\n",
    "\n",
    "plt.xlim(0,1)\n",
    "print len(gt.mesh)\n",
    "oplot(gt, '-o')\n",
    "oplot(gt_ex, '-o')"
   ]
  },
  {
   "cell_type": "code",
   "execution_count": 3,
   "metadata": {},
   "outputs": [
    {
     "name": "stdout",
     "output_type": "stream",
     "text": [
      "[ 0.00021323  0.00021294  0.00021265  0.00021236  0.00021208  0.00021179\n",
      "  0.0002115   0.00021122  0.00021094  0.00021065]\n"
     ]
    },
    {
     "data": {
      "image/png": "[encoded data removed]",
      "text/plain": [
       "<matplotlib.figure.Figure at 0x10a71d450>"
      ]
     },
     "metadata": {},
     "output_type": "display_data"
    }
   ],
   "source": [
    "gw2 = gw.copy()\n",
    "gw2 <<  Fourier(gt)\n",
    "\n",
    "plt.xlim(0,1)\n",
    "oplot(gw, '-o')\n",
    "oplot(gw2, '-o')\n",
    "print abs((gw - gw2).data[0:10,0,0])"
   ]
  },
  {
   "cell_type": "markdown",
   "metadata": {},
   "source": [
    "Fit the tail for $G(\\tau)$\n",
    "==================\n",
    "\n",
    "Illustrate the idea with the expansion around 0.\n",
    "\n",
    "`NB : we need to also add the term at beta, except it is very small in this example.`\n",
    "\n",
    "If $\\tau_i$ are the points of the grid, with $\\tau_i = i \\beta/N$ with $N$ points, \n",
    "and we note $\\epsilon = \\beta/N$ : \n",
    "\n",
    "$$d_a \\equiv \\frac{g(\\tau_a) - g(0)}{\\tau_a} = \\sum_{j=1}^p g^{(j)}(0) \\dfrac{\\tau_a^{j-1}}{j!} + O(\\epsilon^p)$$\n",
    "\n",
    "So \n",
    "$$\\displaystyle \\begin{pmatrix} d_p \\\\ \\ldots \\\\d_1\\end{pmatrix}  = V * \\begin{pmatrix} g^{(j)}(0) \\dfrac{\\epsilon^{j-1}}{j!}\\\\ \\ldots \\\\g^{(1)}(0)\\end{pmatrix}$$\n",
    "where $V$ is a $p\\times p$ Vandermonde matrix\n",
    "$$ V= Vandermonde(p, p-1, \\ldots, 1) $$\n",
    "\n",
    "If we make a $QR$ decomposition of $V = QR$ (where $Q$ is orthogonal and $R$ upper-triangular), \n",
    "we pass $Q$ on the left, and we can solve first for $g'(0)$ (with last eq), then $g''(0), g'''(0)$ and so on \n",
    "at order $O(\\epsilon^{p-1})$, $O(\\epsilon^{p-2})$ and $O(\\epsilon^{p-3})$ and so on.\n"
   ]
  },
  {
   "cell_type": "code",
   "execution_count": 4,
   "metadata": {},
   "outputs": [
    {
     "name": "stdout",
     "output_type": "stream",
     "text": [
      "eps =  0.0500500500501\n",
      "0 2.29999999995 2.3 2.21436202708e-11\n",
      "1 5.28999999402 5.29 1.13032150306e-09\n",
      "2 12.166999568 12.167 3.55052856005e-08\n",
      "3 27.9840770902 27.9841 8.18672806324e-07\n",
      "4 64.3624917093 64.36343 1.45780099738e-05\n"
     ]
    }
   ],
   "source": [
    "gt = GfImTime(indices = [1], beta = 50, n_points = 1000)\n",
    "for t in gt.mesh:\n",
    "    gt[t] = - exp (-pol * t)/(1  + exp (-beta * pol))\n",
    "\n",
    "p = 10\n",
    "p_range = range(p,0,-1) \n",
    "eps = list(gt.mesh)[1].value\n",
    "print \"eps = \", eps\n",
    "\n",
    "Q, R = np.linalg.qr(np.vander(p_range))\n",
    "dcol = np.array([(gt.data[i,0,0] - gt.data[0,0,0])/(i*eps) for i in p_range])\n",
    "Gder = np.dot( np.linalg.inv(R), np.dot(Q.transpose(), dcol))[::-1]\n",
    "\n",
    "moments = [ x/eps**(i)*math.factorial(i+1) *(-1)**i for i,x in enumerate(Gder)]\n",
    "\n",
    "for i in range(min(5, p)):\n",
    "    print i, moments[i].real, analy(i+1), abs(1- moments[i]/analy(i+1)) #, abs(moments[i] - analy(i+1)), abs(Gder[i]- analy(i+1)* eps**i/math.factorial(i)) "
   ]
  },
  {
   "cell_type": "code",
   "execution_count": null,
   "metadata": {
    "collapsed": true
   },
   "outputs": [],
   "source": []
  },
  {
   "cell_type": "code",
   "execution_count": null,
   "metadata": {
    "collapsed": true
   },
   "outputs": [],
   "source": []
  }
 ],
 "metadata": {
  "kernelspec": {
   "display_name": "Python 2",
   "language": "python",
   "name": "python2"
  },
  "language_info": {
   "codemirror_mode": {
    "name": "ipython",
    "version": 2
   },
   "file_extension": ".py",
   "mimetype": "text/x-python",
   "name": "python",
   "nbconvert_exporter": "python",
   "pygments_lexer": "ipython2",
   "version": "2.7.14"
  }
 },
 "nbformat": 4,
 "nbformat_minor": 2
}
